{
 "cells": [
  {
   "cell_type": "markdown",
   "metadata": {},
   "source": [
    "# [GPT-Assign03] An LCEL Chain with a Memory\n",
    "-----\n",
    "### Lecture05: Memory\n",
    "\n",
    "\n",
    "* Implement **an LCEL chain with a memory** that uses one of the memory classes we learned about.\n",
    "\n",
    "* The chain should take the title of a movie and reply with three emojis that represent the movie. \n",
    "    * (i.e \"Top Gun\" -> \"🛩️👨‍✈️🔥\". \"The Godfather\" -> \"👨‍👨‍👦🔫🍝 \")\n",
    "    \n",
    "    * input : the title of a movie \n",
    "\n",
    "    * output: three emojis that represent the movie \n",
    "\n",
    "* Provide examples to the chain using **< FewShotPromptTemplate >** or **< FewShotChatMessagePromptTemplate >** to make sure it always replies with three emojis.\n",
    "\n",
    "\n",
    "* **Tip⭐️**) To check that the memory is working ask the chain about two movies and then in another cell ask the chain to tell you what is the movie you asked about first.\n",
    "\n"
   ]
  },
  {
   "cell_type": "markdown",
   "metadata": {},
   "source": [
    "## Apply all the content learned so far..\n",
    "------"
   ]
  },
  {
   "cell_type": "markdown",
   "metadata": {},
   "source": [
    "* LC Expression Language\n",
    "\n",
    "* FewShot: **FewShotChatMessagePromptTemplate()**\n",
    "\n",
    "* Memory: **ConversationSummaryBufferMemory()**"
   ]
  },
  {
   "cell_type": "code",
   "execution_count": 1,
   "metadata": {},
   "outputs": [],
   "source": [
    "from langchain.chat_models import ChatOpenAI\n",
    "from langchain.prompts import ChatPromptTemplate\n",
    "from langchain.prompts.few_shot import FewShotChatMessagePromptTemplate\n",
    "from langchain.callbacks import StreamingStdOutCallbackHandler\n",
    "from langchain.memory import ConversationSummaryBufferMemory\n",
    "from langchain.schema.runnable import RunnablePassthrough \n",
    "from langchain.prompts import ChatPromptTemplate, MessagesPlaceholder \n",
    "\n",
    "\n",
    "llm = ChatOpenAI(\n",
    "    temperature=0.1,\n",
    "    streaming=True,\n",
    "    callbacks=[\n",
    "        StreamingStdOutCallbackHandler()\n",
    "    ]\n",
    ")\n",
    "\n",
    "memory= ConversationSummaryBufferMemory( ## llm =/ chat\n",
    "    llm =llm,\n",
    "    max_token_limit=80,\n",
    "    # memory_key=\"chat_history\", \n",
    "    return_messages=True,\n",
    ")\n",
    "\n",
    "\n",
    "examples = [\n",
    "    {\n",
    "        \"question\": \"The Godfather\",\n",
    "        \"answer\": \"🛩️👨‍✈️🔥\",\n",
    "        },\n",
    "        {\n",
    "        \"question\": \"Top Gun\",\n",
    "        \"answer\": \"👨‍👨‍👦🔫🍝\",\n",
    "        },\n",
    "        {\n",
    "        \"question\": \"Frozen\",\n",
    "        \"answer\": \"❄️👸🏼⛄\",\n",
    "    },\n",
    "]\n",
    "\n",
    "example_prompt = ChatPromptTemplate.from_messages([\n",
    "    (\"human\",\"{question}?\"),\n",
    "    (\"ai\", \"{answer}\")\n",
    "])\n",
    "\n",
    "example_prompt = FewShotChatMessagePromptTemplate(\n",
    "    example_prompt= example_prompt,\n",
    "    examples= examples,\n",
    ")\n",
    "\n",
    "final_prompt = ChatPromptTemplate.from_messages([\n",
    "    ('system', \"You are a movie enthusiast. \\\n",
    "     Therefore, when given a movie title, you can output the three emojis that best represent the content of that movie.\\\n",
    "     If it's not a movie title, you don't respond with emojis but just answer the question that you are given\"),\n",
    "    example_prompt,\n",
    "    MessagesPlaceholder(variable_name=\"history\"),\n",
    "    (\"human\",\"{question}?\") \n",
    "\n",
    "])\n",
    "\n",
    "def load_memeory(input):       \n",
    "    return memory.load_memory_variables({})[\"history\"]\n",
    "\n",
    "\n",
    "chain = RunnablePassthrough.assign(history=load_memeory) | final_prompt | llm\n",
    "\n",
    "def invoke_chain(question):     \n",
    "    result= chain.invoke({\"question\": question})\n",
    "    memory.save_context({\"input\": question}, {\"output\": result.content},)\n",
    "    print(result)\n",
    "\n",
    "\n"
   ]
  },
  {
   "cell_type": "code",
   "execution_count": 2,
   "metadata": {},
   "outputs": [
    {
     "name": "stdout",
     "output_type": "stream",
     "text": [
      "🐰🦊👮‍♂️content='🐰🦊👮\\u200d♂️'\n"
     ]
    }
   ],
   "source": [
    "invoke_chain( \"Zootopia\")"
   ]
  },
  {
   "cell_type": "code",
   "execution_count": 3,
   "metadata": {},
   "outputs": [
    {
     "name": "stdout",
     "output_type": "stream",
     "text": [
      "👨‍👩‍👧‍👦🏠🔪content='👨\\u200d👩\\u200d👧\\u200d👦🏠🔪'\n"
     ]
    }
   ],
   "source": [
    "invoke_chain(\"Parasite\")"
   ]
  },
  {
   "cell_type": "code",
   "execution_count": 4,
   "metadata": {},
   "outputs": [
    {
     "name": "stdout",
     "output_type": "stream",
     "text": [
      "🌳🍲🌻The human mentions \"Zootopia\" and the AI responds with emojis of a rabbit, fox, and police officer.content='🌳🍲🌻'\n"
     ]
    }
   ],
   "source": [
    "invoke_chain(\"Little Forest: Summer/Autumn\")"
   ]
  },
  {
   "cell_type": "code",
   "execution_count": 5,
   "metadata": {},
   "outputs": [
    {
     "name": "stdout",
     "output_type": "stream",
     "text": [
      "The last movie title that was asked about was \"Little Forest: Summer/Autumn\".The human mentions \"Zootopia\" and the AI responds with emojis of a rabbit, fox, and police officer. When the human brings up \"Parasite,\" the AI responds with emojis representing a family, a house, and a knife.content='The last movie title that was asked about was \"Little Forest: Summer/Autumn\".'\n"
     ]
    }
   ],
   "source": [
    "invoke_chain(\"What was the last movie that a human asked about?\")"
   ]
  },
  {
   "cell_type": "code",
   "execution_count": 6,
   "metadata": {},
   "outputs": [
    {
     "name": "stdout",
     "output_type": "stream",
     "text": [
      "🛩️👨‍✈️🔥The human mentions \"Zootopia\" and the AI responds with emojis of a rabbit, fox, and police officer. When the human brings up \"Parasite,\" the AI responds with emojis representing a family, a house, and a knife. The human then asks about \"Little Forest: Summer/Autumn\" and the AI responds with emojis of a tree, a bowl of soup, and sunflowers. The human inquires about the last movie a human asked about.content='🛩️👨\\u200d✈️🔥'\n"
     ]
    }
   ],
   "source": [
    "invoke_chain(\"What was the first movie you were asked about? You can answer with emojis.\")"
   ]
  }
 ],
 "metadata": {
  "kernelspec": {
   "display_name": "env",
   "language": "python",
   "name": "python3"
  },
  "language_info": {
   "codemirror_mode": {
    "name": "ipython",
    "version": 3
   },
   "file_extension": ".py",
   "mimetype": "text/x-python",
   "name": "python",
   "nbconvert_exporter": "python",
   "pygments_lexer": "ipython3",
   "version": "3.10.13"
  }
 },
 "nbformat": 4,
 "nbformat_minor": 2
}
