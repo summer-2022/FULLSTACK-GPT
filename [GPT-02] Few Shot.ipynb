{
 "cells": [
  {
   "cell_type": "markdown",
   "metadata": {},
   "source": [
    "# [GPT assign-02] Few Shot Learning\n",
    "-----\n",
    "### Lecture04: Model I/O\n",
    "\n",
    "\n",
    "* Make a chain that takes the name of a movie and replies with information about the movie such as.. \n",
    "    * the director\n",
    "    * the main cast\n",
    "    * the budget \n",
    "    * the box office revenue \n",
    "    * the genre of the movie \n",
    "    * a small synopsis\n",
    "\n",
    "* The LLM should always reply using the same format, to accomplish this you must **give examples to the LLM of your desired output.**\n",
    "\n",
    "* To provide examples use **FewShotPromptTemplate** or **FewShotChatMessagePromptTemplate**.\n"
   ]
  },
  {
   "cell_type": "code",
   "execution_count": 1,
   "metadata": {},
   "outputs": [],
   "source": [
    "from langchain.chat_models import ChatOpenAI\n",
    "from langchain.prompts import PromptTemplate\n",
    "from langchain.prompts.few_shot import FewShotPromptTemplate\n",
    "from langchain.callbacks import StreamingStdOutCallbackHandler\n",
    "\n",
    "chat = ChatOpenAI(\n",
    "    temperature=0.1,\n",
    "    streaming=True,\n",
    "    callbacks=[\n",
    "        StreamingStdOutCallbackHandler()\n",
    "    ]\n",
    ")\n",
    "\n",
    "examples = [\n",
    "    {\n",
    "        \"question\": \"What do you know about Charlie and the Chocolate Factory?\",\n",
    "        \"answer\": \"\"\"\n",
    "        Here is what I know:\n",
    "        Title: Charlie and the Chocolate Factory\n",
    "        Director: Tim Burton,\n",
    "        Cast: Johnny Depp, Freddie Highmore and AnnaSophia Robb\n",
    "        Budget: $150 million\n",
    "        Box_office: $475 million\n",
    "        Genre: Fantasy and Comedy\n",
    "        Synopsis: Charlie, a poor boy, receives a special golden ticket to visit the chocolate factory. \n",
    "        The factory owner, Willy Wonka, offers Charlie and four other children a unique experience, and through this journey, Charlie learns the true value of life.\n",
    "\n",
    "        \"\"\",\n",
    "        },\n",
    "        {\n",
    "        \"question\": \"What do you know about Harry Potter?\",\n",
    "        \"answer\": \"\"\"\n",
    "        I know this:\n",
    "        Title: Harry Potter\n",
    "        Director: Chris Columbus\n",
    "        Cast: Daniel Radcliffe, Emma Watson, Rupert Grint\n",
    "        Budget: $125 million\n",
    "        Box_office: $974.8 million\n",
    "        Genre: Fantasy and Adventure\n",
    "        Synopsis: One day, an ordinary boy named Harry Potter discovers that he is a wizard and enrolls in Hogwarts School of Witchcraft and Wizardry. \n",
    "        There, he prepares for a war against the dark villain, Voldemort, with his friends.\n",
    "\n",
    "        \"\"\",\n",
    "        },\n",
    "        {\n",
    "        \"question\": \"What do you know about Greece?\",\n",
    "        \"answer\": \"\"\"\n",
    "        I know this:\n",
    "        Title: Your Name\n",
    "        Director: Makoto Shinkai\n",
    "        Cast: Ryunosuke Kamiki and Mone Kamishiraishi\n",
    "        Budget: Unknown\n",
    "        Box_office: $358 million\n",
    "        Genre: Animation and Romance\n",
    "        Synopsis\": A city boy, Taki, and a country girl, Mitsuha, start to have dreams where they swap bodies.\n",
    "        Experiencing each other's lives, they try to meet in real life.\n",
    "\n",
    "        \"\"\",\n",
    "    },\n",
    "]\n",
    "\n",
    "example_template = \"\"\"\n",
    "    Human: {question}\n",
    "    AI: {answer}\n",
    "\"\"\"\n",
    "example_prompt = PromptTemplate.from_template(example_template)\n",
    "\n",
    "# example_prompt = PromptTemplate.from_template(\"Human: {question}\\nAI: {answer}\")\n",
    "\n",
    "prompt = FewShotPromptTemplate(\n",
    "    example_prompt= example_prompt,\n",
    "    examples= examples,\n",
    "    suffix=\"Human: What do you know about {movie}?\",\n",
    "    input_variables=[\"movie\"]\n",
    ")\n",
    "\n",
    "# prompt.format(movie=\"Parasite\")\n"
   ]
  },
  {
   "cell_type": "code",
   "execution_count": 2,
   "metadata": {},
   "outputs": [
    {
     "name": "stdout",
     "output_type": "stream",
     "text": [
      "AI: \n",
      "        Here is what I know:\n",
      "        Title: Parasite\n",
      "        Director: Bong Joon-ho\n",
      "        Cast: Song Kang-ho, Lee Sun-kyun, Cho Yeo-jeong, Choi Woo-shik, Park So-dam\n",
      "        Budget: $11 million\n",
      "        Box_office: $266.8 million\n",
      "        Genre: Thriller and Drama\n",
      "        Synopsis: Parasite follows the Kim family, who infiltrate the wealthy Park family by posing as unrelated, highly qualified individuals. As their deception unravels, dark secrets and unexpected twists come to light."
     ]
    },
    {
     "data": {
      "text/plain": [
       "AIMessageChunk(content='AI: \\n        Here is what I know:\\n        Title: Parasite\\n        Director: Bong Joon-ho\\n        Cast: Song Kang-ho, Lee Sun-kyun, Cho Yeo-jeong, Choi Woo-shik, Park So-dam\\n        Budget: $11 million\\n        Box_office: $266.8 million\\n        Genre: Thriller and Drama\\n        Synopsis: Parasite follows the Kim family, who infiltrate the wealthy Park family by posing as unrelated, highly qualified individuals. As their deception unravels, dark secrets and unexpected twists come to light.')"
      ]
     },
     "execution_count": 2,
     "metadata": {},
     "output_type": "execute_result"
    }
   ],
   "source": [
    "chain = prompt | chat\n",
    "chain.invoke({\n",
    "    \"movie\": \"Parasite\"\n",
    "})"
   ]
  }
 ],
 "metadata": {
  "kernelspec": {
   "display_name": "env",
   "language": "python",
   "name": "python3"
  },
  "language_info": {
   "codemirror_mode": {
    "name": "ipython",
    "version": 3
   },
   "file_extension": ".py",
   "mimetype": "text/x-python",
   "name": "python",
   "nbconvert_exporter": "python",
   "pygments_lexer": "ipython3",
   "version": "3.10.13"
  }
 },
 "nbformat": 4,
 "nbformat_minor": 2
}
