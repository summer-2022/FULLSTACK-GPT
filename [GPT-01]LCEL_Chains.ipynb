{
 "cells": [
  {
   "cell_type": "markdown",
   "metadata": {},
   "source": [
    "# FULLSTACK-GPT 01: \n",
    "### LCEL Chains (LangChain Expression Language)\n",
    "\n",
    "**This challenge is to familiarize ourselves with the Jupyter Notebooks, LangChain Expression Language and the submission process.**\n",
    "\n",
    "- Make a chain that is specialized in writing Haikus about programming languages and another one that is specialized in explaining Haikus.\n",
    "- Chain the two chains together using LCEL.\n",
    "- The final chain should receive the name of a programming language and it should reply with the Haiku and its explanation.\n",
    "- Use \"gpt-3.5-turbo\" as the model and `ChatPromptTemplate` for your prompts."
   ]
  },
  {
   "cell_type": "code",
   "execution_count": 7,
   "metadata": {},
   "outputs": [],
   "source": [
    "from langchain.chat_models import ChatOpenAI\n",
    "from langchain.prompts import ChatPromptTemplate\n",
    "from langchain.callbacks import StreamingStdOutCallbackHandler\n",
    "\n",
    "chat = ChatOpenAI(temperature=0.1,\n",
    "                  streaming=True, # showing what is going on during the process\n",
    "                  callbacks=[StreamingStdOutCallbackHandler()])\n",
    "\n",
    "poet_prompt = ChatPromptTemplate.from_messages(\n",
    "    [\n",
    "        (\"system\", \"You are a globally renowned poet. \\\n",
    "         You specialize in writing amusing Haikus, especially on the topic of programming languages.\"),\n",
    "        (\"human\", \"I want to a Haiku about {programming_languages}.\"),\n",
    "    ]\n",
    ")\n",
    "\n",
    "explainer_prompt = ChatPromptTemplate.from_messages(\n",
    "    [\n",
    "        (\"system\", \"You are a Haiku interpreter specializing in Haikus centered around programming languages. \\\n",
    "         You refrain from making too many leaps. \\\n",
    "         You give explanations line by line after the Haiku. \\\n",
    "         If the Haiku contains ambiguous content, you simply state that you don't understand its meaning.\"), \n",
    "        (\"human\", \"{Haiku}\")\n",
    "    ]\n",
    ")\n"
   ]
  },
  {
   "cell_type": "code",
   "execution_count": 8,
   "metadata": {},
   "outputs": [
    {
     "name": "stdout",
     "output_type": "stream",
     "text": [
      "Indentation rules,\n",
      "Pythonic beauty shines bright,\n",
      "Guido's legacy.This Haiku praises Python for its indentation rules, which contribute to its clean and readable code. It also mentions the beauty of Pythonic code and attributes it to Guido van Rossum, the creator of Python."
     ]
    },
    {
     "data": {
      "text/plain": [
       "AIMessageChunk(content='This Haiku praises Python for its indentation rules, which contribute to its clean and readable code. It also mentions the beauty of Pythonic code and attributes it to Guido van Rossum, the creator of Python.')"
      ]
     },
     "execution_count": 8,
     "metadata": {},
     "output_type": "execute_result"
    }
   ],
   "source": [
    "poet_chain = poet_prompt | chat\n",
    "explainer_chain = explainer_prompt | chat\n",
    "\n",
    "final_chain = {\"Haiku\":poet_chain} | explainer_chain\n",
    "\n",
    "final_chain.invoke(\n",
    "    {\n",
    "        \"programming_languages\": \"python\",\n",
    "    }\n",
    ")"
   ]
  }
 ],
 "metadata": {
  "kernelspec": {
   "display_name": "env",
   "language": "python",
   "name": "python3"
  },
  "language_info": {
   "codemirror_mode": {
    "name": "ipython",
    "version": 3
   },
   "file_extension": ".py",
   "mimetype": "text/x-python",
   "name": "python",
   "nbconvert_exporter": "python",
   "pygments_lexer": "ipython3",
   "version": "3.10.13"
  }
 },
 "nbformat": 4,
 "nbformat_minor": 2
}
