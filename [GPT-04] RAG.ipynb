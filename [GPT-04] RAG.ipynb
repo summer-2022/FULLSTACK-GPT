{
 "cells": [
  {
   "cell_type": "markdown",
   "metadata": {},
   "source": [
    "# [GPT-Assign04] \"Retrieval-Augmented Generation”\n",
    "-----\n",
    "### Lecture06: RAG\n",
    "\n",
    "* Implement a complete **RAG pipeline with a Stuff Documents chain**.\n",
    "* You must implement the chain manually.\n",
    "Give a **`ConversationBufferMemory`** to the chain.\n",
    "* Use this **document** to perform RAG: https://gist.github.com/serranoarevalo/5acf755c2b8d83f1707ef266b82ea223\n",
    "* Ask the following questions to the chain:\n",
    "    * Is Aaronson guilty?\n",
    "    * What message did he write in the table?\n",
    "    * Who is Julia?"
   ]
  },
  {
   "cell_type": "code",
   "execution_count": 1,
   "metadata": {},
   "outputs": [],
   "source": [
    "from langchain.chat_models import ChatOpenAI\n",
    "from langchain.document_loaders import UnstructuredFileLoader\n",
    "from langchain.text_splitter import CharacterTextSplitter\n",
    "from langchain.embeddings import OpenAIEmbeddings, CacheBackedEmbeddings\n",
    "from langchain.vectorstores import FAISS\n",
    "from langchain.storage import LocalFileStore\n",
    "from langchain.prompts import ChatPromptTemplate, MessagesPlaceholder\n",
    "from langchain.schema.runnable import RunnablePassthrough, RunnableLambda\n",
    "from langchain.memory import ConversationBufferMemory\n",
    "# from langchain.chains import ConversationChain\n",
    "\n",
    "\n",
    "\n",
    "llm = ChatOpenAI(\n",
    "    temperature=0.1,\n",
    ")\n",
    "\n",
    "# memory= ConversationBufferMemory(return_messages=True)\n",
    "\n",
    "memory = ConversationBufferMemory(\n",
    "    llm=llm,\n",
    "    return_messages=True,\n",
    "    memory_key=\"history\",\n",
    ")\n",
    "\n",
    "# memort = ConversationChain(\n",
    "#     llm=llm, \n",
    "#     verbose=True, \n",
    "#     memory=memory\n",
    "# )\n",
    "\n",
    "cache_dir= LocalFileStore(\"/workspaces/FULLSTACK-GPT/.cache\")\n",
    "\n",
    "\n",
    "splitter = CharacterTextSplitter.from_tiktoken_encoder(\n",
    "    separator= \"\\n\",\n",
    "    chunk_size= 600,\n",
    "    chunk_overlap= 100,\n",
    ")\n",
    "\n",
    "loader = UnstructuredFileLoader(\"/workspaces/FULLSTACK-GPT/files/document.txt\")\n",
    "\n",
    "docs = loader.load_and_split(text_splitter=splitter)\n",
    "\n",
    "embeddings = OpenAIEmbeddings()\n",
    "\n",
    "cached_embeddings = CacheBackedEmbeddings.from_bytes_store(\n",
    "    embeddings, cache_dir\n",
    ")\n",
    "\n",
    "vectorstore = FAISS.from_documents(docs, cached_embeddings)\n",
    "\n",
    "retriever = vectorstore.as_retriever()\n",
    "\n",
    "prompt = ChatPromptTemplate.from_messages([\n",
    "    (\"system\", \"\"\"You are a helpful assistant. Answer questions using only the context. \n",
    "    If you don't know the answer, just say you don't know; don't make it up.\":\\n\\n{context}\"\"\"),\n",
    "    MessagesPlaceholder(variable_name=\"history\"),\n",
    "    (\"human\", \"{question}\")\n",
    "])\n",
    "\n",
    "def load_memory(input):       \n",
    "    return memory.load_memory_variables({})[\"history\"]\n",
    "\n",
    "chain = {\"context\": retriever,\n",
    "         \"question\": RunnablePassthrough(), \n",
    "         \"history\":  RunnableLambda(load_memory),} | prompt | llm\n",
    "\n",
    "\n",
    "\n",
    "# def invoke_chain(question):     \n",
    "#     result= chain.invoke({\"question\": question})\n",
    "#     memory.save_context({\"input\": question}, {\"output\": result.content},)\n",
    "#     print(result)\n",
    "\n",
    "def invoke_chain(question):\n",
    "    result = chain.invoke(question).content\n",
    "    memory.save_context(\n",
    "        {\"input\": question},\n",
    "        {\"output\": result},\n",
    "    )\n",
    "    print(f\"Result: {result}\")\n",
    "   "
   ]
  },
  {
   "cell_type": "code",
   "execution_count": 2,
   "metadata": {},
   "outputs": [
    {
     "name": "stdout",
     "output_type": "stream",
     "text": [
      "Result: Yes, Jones, Aaronson, and Rutherford were guilty of the crimes they were charged with.\n"
     ]
    }
   ],
   "source": [
    "invoke_chain(\"Is Aaronson guilty?\")"
   ]
  },
  {
   "cell_type": "code",
   "execution_count": 3,
   "metadata": {},
   "outputs": [
    {
     "name": "stdout",
     "output_type": "stream",
     "text": [
      "Result: He wrote \"2+2=5\" on the table.\n"
     ]
    }
   ],
   "source": [
    "invoke_chain(\"What message did he write in the table?\")"
   ]
  },
  {
   "cell_type": "code",
   "execution_count": 4,
   "metadata": {},
   "outputs": [
    {
     "name": "stdout",
     "output_type": "stream",
     "text": [
      "Result: Julia is a person who Winston loves and cares for deeply.\n"
     ]
    }
   ],
   "source": [
    "invoke_chain(\"Who is Julia?v\")"
   ]
  }
 ],
 "metadata": {
  "kernelspec": {
   "display_name": "env",
   "language": "python",
   "name": "python3"
  },
  "language_info": {
   "codemirror_mode": {
    "name": "ipython",
    "version": 3
   },
   "file_extension": ".py",
   "mimetype": "text/x-python",
   "name": "python",
   "nbconvert_exporter": "python",
   "pygments_lexer": "ipython3",
   "version": "3.10.13"
  }
 },
 "nbformat": 4,
 "nbformat_minor": 2
}
